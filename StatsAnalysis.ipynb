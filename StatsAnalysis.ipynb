{
 "cells": [
  {
   "cell_type": "code",
   "execution_count": null,
   "id": "02d47106",
   "metadata": {
    "_cell_guid": "b1076dfc-b9ad-4769-8c92-a6c4dae69d19",
    "_uuid": "8f2839f25d086af736a60e9eeb907d3b93b6e0e5",
    "execution": {
     "iopub.execute_input": "2023-04-01T17:20:56.792417Z",
     "iopub.status.busy": "2023-04-01T17:20:56.791978Z",
     "iopub.status.idle": "2023-04-01T17:20:56.813791Z",
     "shell.execute_reply": "2023-04-01T17:20:56.812441Z"
    },
    "papermill": {
     "duration": 0.034071,
     "end_time": "2023-04-01T17:20:56.816774",
     "exception": false,
     "start_time": "2023-04-01T17:20:56.782703",
     "status": "completed"
    },
    "tags": []
   },
   "outputs": [],
   "source": [
    "import numpy as np # linear algebra\n",
    "import pandas as pd # data processing\n"
   ]
  },
  {
   "cell_type": "code",
   "execution_count": 2,
   "id": "896dcec6",
   "metadata": {
    "execution": {
     "iopub.execute_input": "2023-04-01T17:20:56.832867Z",
     "iopub.status.busy": "2023-04-01T17:20:56.832106Z",
     "iopub.status.idle": "2023-04-01T17:20:56.855598Z",
     "shell.execute_reply": "2023-04-01T17:20:56.854253Z"
    },
    "papermill": {
     "duration": 0.034802,
     "end_time": "2023-04-01T17:20:56.858250",
     "exception": false,
     "start_time": "2023-04-01T17:20:56.823448",
     "status": "completed"
    },
    "tags": []
   },
   "outputs": [],
   "source": [
    "import pandas as pd\n",
    "import os\n",
    "\n",
    "df = pd.read_csv('test_dataset.csv')\n"
   ]
  },
  {
   "cell_type": "code",
   "execution_count": 3,
   "id": "8a1082dc",
   "metadata": {
    "execution": {
     "iopub.execute_input": "2023-04-01T17:20:56.873700Z",
     "iopub.status.busy": "2023-04-01T17:20:56.872843Z",
     "iopub.status.idle": "2023-04-01T17:20:56.926061Z",
     "shell.execute_reply": "2023-04-01T17:20:56.924815Z"
    },
    "papermill": {
     "duration": 0.06443,
     "end_time": "2023-04-01T17:20:56.929201",
     "exception": false,
     "start_time": "2023-04-01T17:20:56.864771",
     "status": "completed"
    },
    "tags": []
   },
   "outputs": [
    {
     "data": {
      "text/html": [
       "<div>\n",
       "<style scoped>\n",
       "    .dataframe tbody tr th:only-of-type {\n",
       "        vertical-align: middle;\n",
       "    }\n",
       "\n",
       "    .dataframe tbody tr th {\n",
       "        vertical-align: top;\n",
       "    }\n",
       "\n",
       "    .dataframe thead th {\n",
       "        text-align: right;\n",
       "    }\n",
       "</style>\n",
       "<table border=\"1\" class=\"dataframe\">\n",
       "  <thead>\n",
       "    <tr style=\"text-align: right;\">\n",
       "      <th></th>\n",
       "      <th>team</th>\n",
       "      <th>targeted_productivity</th>\n",
       "      <th>smv</th>\n",
       "      <th>wip</th>\n",
       "      <th>over_time</th>\n",
       "      <th>incentive</th>\n",
       "      <th>idle_time</th>\n",
       "      <th>idle_men</th>\n",
       "      <th>no_of_style_change</th>\n",
       "      <th>no_of_workers</th>\n",
       "      <th>...</th>\n",
       "      <th>quarter_Quarter5</th>\n",
       "      <th>department_finishing</th>\n",
       "      <th>department_finishing</th>\n",
       "      <th>department_sweing</th>\n",
       "      <th>day_Monday</th>\n",
       "      <th>day_Saturday</th>\n",
       "      <th>day_Sunday</th>\n",
       "      <th>day_Thursday</th>\n",
       "      <th>day_Tuesday</th>\n",
       "      <th>day_Wednesday</th>\n",
       "    </tr>\n",
       "  </thead>\n",
       "  <tbody>\n",
       "    <tr>\n",
       "      <th>0</th>\n",
       "      <td>12</td>\n",
       "      <td>0.75</td>\n",
       "      <td>4.08</td>\n",
       "      <td>NaN</td>\n",
       "      <td>1080</td>\n",
       "      <td>0</td>\n",
       "      <td>0.0</td>\n",
       "      <td>0</td>\n",
       "      <td>0</td>\n",
       "      <td>9.0</td>\n",
       "      <td>...</td>\n",
       "      <td>1</td>\n",
       "      <td>0</td>\n",
       "      <td>1</td>\n",
       "      <td>0</td>\n",
       "      <td>0</td>\n",
       "      <td>1</td>\n",
       "      <td>0</td>\n",
       "      <td>0</td>\n",
       "      <td>0</td>\n",
       "      <td>0</td>\n",
       "    </tr>\n",
       "    <tr>\n",
       "      <th>1</th>\n",
       "      <td>4</td>\n",
       "      <td>0.75</td>\n",
       "      <td>4.15</td>\n",
       "      <td>NaN</td>\n",
       "      <td>2400</td>\n",
       "      <td>0</td>\n",
       "      <td>0.0</td>\n",
       "      <td>0</td>\n",
       "      <td>0</td>\n",
       "      <td>20.0</td>\n",
       "      <td>...</td>\n",
       "      <td>0</td>\n",
       "      <td>1</td>\n",
       "      <td>0</td>\n",
       "      <td>0</td>\n",
       "      <td>0</td>\n",
       "      <td>0</td>\n",
       "      <td>1</td>\n",
       "      <td>0</td>\n",
       "      <td>0</td>\n",
       "      <td>0</td>\n",
       "    </tr>\n",
       "    <tr>\n",
       "      <th>2</th>\n",
       "      <td>3</td>\n",
       "      <td>0.70</td>\n",
       "      <td>30.10</td>\n",
       "      <td>1057.0</td>\n",
       "      <td>0</td>\n",
       "      <td>40</td>\n",
       "      <td>0.0</td>\n",
       "      <td>0</td>\n",
       "      <td>1</td>\n",
       "      <td>58.0</td>\n",
       "      <td>...</td>\n",
       "      <td>0</td>\n",
       "      <td>0</td>\n",
       "      <td>0</td>\n",
       "      <td>1</td>\n",
       "      <td>0</td>\n",
       "      <td>0</td>\n",
       "      <td>0</td>\n",
       "      <td>0</td>\n",
       "      <td>0</td>\n",
       "      <td>1</td>\n",
       "    </tr>\n",
       "    <tr>\n",
       "      <th>3</th>\n",
       "      <td>7</td>\n",
       "      <td>0.70</td>\n",
       "      <td>3.94</td>\n",
       "      <td>NaN</td>\n",
       "      <td>2160</td>\n",
       "      <td>0</td>\n",
       "      <td>0.0</td>\n",
       "      <td>0</td>\n",
       "      <td>0</td>\n",
       "      <td>18.0</td>\n",
       "      <td>...</td>\n",
       "      <td>0</td>\n",
       "      <td>0</td>\n",
       "      <td>1</td>\n",
       "      <td>0</td>\n",
       "      <td>0</td>\n",
       "      <td>0</td>\n",
       "      <td>1</td>\n",
       "      <td>0</td>\n",
       "      <td>0</td>\n",
       "      <td>0</td>\n",
       "    </tr>\n",
       "    <tr>\n",
       "      <th>4</th>\n",
       "      <td>5</td>\n",
       "      <td>0.50</td>\n",
       "      <td>4.15</td>\n",
       "      <td>NaN</td>\n",
       "      <td>1440</td>\n",
       "      <td>0</td>\n",
       "      <td>0.0</td>\n",
       "      <td>0</td>\n",
       "      <td>0</td>\n",
       "      <td>8.0</td>\n",
       "      <td>...</td>\n",
       "      <td>0</td>\n",
       "      <td>0</td>\n",
       "      <td>1</td>\n",
       "      <td>0</td>\n",
       "      <td>0</td>\n",
       "      <td>0</td>\n",
       "      <td>1</td>\n",
       "      <td>0</td>\n",
       "      <td>0</td>\n",
       "      <td>0</td>\n",
       "    </tr>\n",
       "    <tr>\n",
       "      <th>...</th>\n",
       "      <td>...</td>\n",
       "      <td>...</td>\n",
       "      <td>...</td>\n",
       "      <td>...</td>\n",
       "      <td>...</td>\n",
       "      <td>...</td>\n",
       "      <td>...</td>\n",
       "      <td>...</td>\n",
       "      <td>...</td>\n",
       "      <td>...</td>\n",
       "      <td>...</td>\n",
       "      <td>...</td>\n",
       "      <td>...</td>\n",
       "      <td>...</td>\n",
       "      <td>...</td>\n",
       "      <td>...</td>\n",
       "      <td>...</td>\n",
       "      <td>...</td>\n",
       "      <td>...</td>\n",
       "      <td>...</td>\n",
       "      <td>...</td>\n",
       "    </tr>\n",
       "    <tr>\n",
       "      <th>175</th>\n",
       "      <td>12</td>\n",
       "      <td>0.80</td>\n",
       "      <td>15.26</td>\n",
       "      <td>470.0</td>\n",
       "      <td>4080</td>\n",
       "      <td>63</td>\n",
       "      <td>0.0</td>\n",
       "      <td>0</td>\n",
       "      <td>0</td>\n",
       "      <td>34.0</td>\n",
       "      <td>...</td>\n",
       "      <td>0</td>\n",
       "      <td>0</td>\n",
       "      <td>0</td>\n",
       "      <td>1</td>\n",
       "      <td>0</td>\n",
       "      <td>0</td>\n",
       "      <td>0</td>\n",
       "      <td>0</td>\n",
       "      <td>0</td>\n",
       "      <td>1</td>\n",
       "    </tr>\n",
       "    <tr>\n",
       "      <th>176</th>\n",
       "      <td>6</td>\n",
       "      <td>0.50</td>\n",
       "      <td>23.41</td>\n",
       "      <td>1379.0</td>\n",
       "      <td>2280</td>\n",
       "      <td>0</td>\n",
       "      <td>0.0</td>\n",
       "      <td>0</td>\n",
       "      <td>1</td>\n",
       "      <td>39.0</td>\n",
       "      <td>...</td>\n",
       "      <td>0</td>\n",
       "      <td>0</td>\n",
       "      <td>0</td>\n",
       "      <td>1</td>\n",
       "      <td>0</td>\n",
       "      <td>1</td>\n",
       "      <td>0</td>\n",
       "      <td>0</td>\n",
       "      <td>0</td>\n",
       "      <td>0</td>\n",
       "    </tr>\n",
       "    <tr>\n",
       "      <th>177</th>\n",
       "      <td>5</td>\n",
       "      <td>0.50</td>\n",
       "      <td>26.82</td>\n",
       "      <td>711.0</td>\n",
       "      <td>7080</td>\n",
       "      <td>23</td>\n",
       "      <td>0.0</td>\n",
       "      <td>0</td>\n",
       "      <td>1</td>\n",
       "      <td>59.0</td>\n",
       "      <td>...</td>\n",
       "      <td>0</td>\n",
       "      <td>0</td>\n",
       "      <td>0</td>\n",
       "      <td>1</td>\n",
       "      <td>0</td>\n",
       "      <td>0</td>\n",
       "      <td>1</td>\n",
       "      <td>0</td>\n",
       "      <td>0</td>\n",
       "      <td>0</td>\n",
       "    </tr>\n",
       "    <tr>\n",
       "      <th>178</th>\n",
       "      <td>5</td>\n",
       "      <td>0.80</td>\n",
       "      <td>11.61</td>\n",
       "      <td>659.0</td>\n",
       "      <td>7080</td>\n",
       "      <td>50</td>\n",
       "      <td>0.0</td>\n",
       "      <td>0</td>\n",
       "      <td>0</td>\n",
       "      <td>31.5</td>\n",
       "      <td>...</td>\n",
       "      <td>0</td>\n",
       "      <td>0</td>\n",
       "      <td>0</td>\n",
       "      <td>1</td>\n",
       "      <td>0</td>\n",
       "      <td>1</td>\n",
       "      <td>0</td>\n",
       "      <td>0</td>\n",
       "      <td>0</td>\n",
       "      <td>0</td>\n",
       "    </tr>\n",
       "    <tr>\n",
       "      <th>179</th>\n",
       "      <td>3</td>\n",
       "      <td>0.75</td>\n",
       "      <td>3.94</td>\n",
       "      <td>NaN</td>\n",
       "      <td>1560</td>\n",
       "      <td>0</td>\n",
       "      <td>0.0</td>\n",
       "      <td>0</td>\n",
       "      <td>0</td>\n",
       "      <td>8.0</td>\n",
       "      <td>...</td>\n",
       "      <td>0</td>\n",
       "      <td>0</td>\n",
       "      <td>1</td>\n",
       "      <td>0</td>\n",
       "      <td>0</td>\n",
       "      <td>1</td>\n",
       "      <td>0</td>\n",
       "      <td>0</td>\n",
       "      <td>0</td>\n",
       "      <td>0</td>\n",
       "    </tr>\n",
       "  </tbody>\n",
       "</table>\n",
       "<p>180 rows × 25 columns</p>\n",
       "</div>"
      ],
      "text/plain": [
       "     team  targeted_productivity    smv     wip  over_time  incentive  \\\n",
       "0      12                   0.75   4.08     NaN       1080          0   \n",
       "1       4                   0.75   4.15     NaN       2400          0   \n",
       "2       3                   0.70  30.10  1057.0          0         40   \n",
       "3       7                   0.70   3.94     NaN       2160          0   \n",
       "4       5                   0.50   4.15     NaN       1440          0   \n",
       "..    ...                    ...    ...     ...        ...        ...   \n",
       "175    12                   0.80  15.26   470.0       4080         63   \n",
       "176     6                   0.50  23.41  1379.0       2280          0   \n",
       "177     5                   0.50  26.82   711.0       7080         23   \n",
       "178     5                   0.80  11.61   659.0       7080         50   \n",
       "179     3                   0.75   3.94     NaN       1560          0   \n",
       "\n",
       "     idle_time  idle_men  no_of_style_change  no_of_workers  ...  \\\n",
       "0          0.0         0                   0            9.0  ...   \n",
       "1          0.0         0                   0           20.0  ...   \n",
       "2          0.0         0                   1           58.0  ...   \n",
       "3          0.0         0                   0           18.0  ...   \n",
       "4          0.0         0                   0            8.0  ...   \n",
       "..         ...       ...                 ...            ...  ...   \n",
       "175        0.0         0                   0           34.0  ...   \n",
       "176        0.0         0                   1           39.0  ...   \n",
       "177        0.0         0                   1           59.0  ...   \n",
       "178        0.0         0                   0           31.5  ...   \n",
       "179        0.0         0                   0            8.0  ...   \n",
       "\n",
       "     quarter_Quarter5  department_finishing  department_finishing   \\\n",
       "0                   1                     0                      1   \n",
       "1                   0                     1                      0   \n",
       "2                   0                     0                      0   \n",
       "3                   0                     0                      1   \n",
       "4                   0                     0                      1   \n",
       "..                ...                   ...                    ...   \n",
       "175                 0                     0                      0   \n",
       "176                 0                     0                      0   \n",
       "177                 0                     0                      0   \n",
       "178                 0                     0                      0   \n",
       "179                 0                     0                      1   \n",
       "\n",
       "     department_sweing  day_Monday  day_Saturday  day_Sunday  day_Thursday  \\\n",
       "0                    0           0             1           0             0   \n",
       "1                    0           0             0           1             0   \n",
       "2                    1           0             0           0             0   \n",
       "3                    0           0             0           1             0   \n",
       "4                    0           0             0           1             0   \n",
       "..                 ...         ...           ...         ...           ...   \n",
       "175                  1           0             0           0             0   \n",
       "176                  1           0             1           0             0   \n",
       "177                  1           0             0           1             0   \n",
       "178                  1           0             1           0             0   \n",
       "179                  0           0             1           0             0   \n",
       "\n",
       "     day_Tuesday  day_Wednesday  \n",
       "0              0              0  \n",
       "1              0              0  \n",
       "2              0              1  \n",
       "3              0              0  \n",
       "4              0              0  \n",
       "..           ...            ...  \n",
       "175            0              1  \n",
       "176            0              0  \n",
       "177            0              0  \n",
       "178            0              0  \n",
       "179            0              0  \n",
       "\n",
       "[180 rows x 25 columns]"
      ]
     },
     "execution_count": 3,
     "metadata": {},
     "output_type": "execute_result"
    }
   ],
   "source": [
    "prediction_df = pd.read_csv('test_dataset.csv')\n",
    "prediction_df"
   ]
  },
  {
   "cell_type": "code",
   "execution_count": 4,
   "id": "f62792ac",
   "metadata": {
    "execution": {
     "iopub.execute_input": "2023-04-01T17:20:56.945492Z",
     "iopub.status.busy": "2023-04-01T17:20:56.945021Z",
     "iopub.status.idle": "2023-04-01T17:20:56.978205Z",
     "shell.execute_reply": "2023-04-01T17:20:56.976871Z"
    },
    "papermill": {
     "duration": 0.044479,
     "end_time": "2023-04-01T17:20:56.980957",
     "exception": false,
     "start_time": "2023-04-01T17:20:56.936478",
     "status": "completed"
    },
    "tags": []
   },
   "outputs": [
    {
     "data": {
      "text/html": [
       "<div>\n",
       "<style scoped>\n",
       "    .dataframe tbody tr th:only-of-type {\n",
       "        vertical-align: middle;\n",
       "    }\n",
       "\n",
       "    .dataframe tbody tr th {\n",
       "        vertical-align: top;\n",
       "    }\n",
       "\n",
       "    .dataframe thead th {\n",
       "        text-align: right;\n",
       "    }\n",
       "</style>\n",
       "<table border=\"1\" class=\"dataframe\">\n",
       "  <thead>\n",
       "    <tr style=\"text-align: right;\">\n",
       "      <th></th>\n",
       "      <th>team</th>\n",
       "      <th>targeted_productivity</th>\n",
       "      <th>smv</th>\n",
       "      <th>wip</th>\n",
       "      <th>over_time</th>\n",
       "      <th>incentive</th>\n",
       "      <th>idle_time</th>\n",
       "      <th>idle_men</th>\n",
       "      <th>no_of_style_change</th>\n",
       "      <th>no_of_workers</th>\n",
       "      <th>...</th>\n",
       "      <th>quarter_Quarter5</th>\n",
       "      <th>department_finishing</th>\n",
       "      <th>department_finishing</th>\n",
       "      <th>department_sweing</th>\n",
       "      <th>day_Monday</th>\n",
       "      <th>day_Saturday</th>\n",
       "      <th>day_Sunday</th>\n",
       "      <th>day_Thursday</th>\n",
       "      <th>day_Tuesday</th>\n",
       "      <th>day_Wednesday</th>\n",
       "    </tr>\n",
       "  </thead>\n",
       "  <tbody>\n",
       "    <tr>\n",
       "      <th>0</th>\n",
       "      <td>False</td>\n",
       "      <td>False</td>\n",
       "      <td>False</td>\n",
       "      <td>True</td>\n",
       "      <td>False</td>\n",
       "      <td>False</td>\n",
       "      <td>False</td>\n",
       "      <td>False</td>\n",
       "      <td>False</td>\n",
       "      <td>False</td>\n",
       "      <td>...</td>\n",
       "      <td>False</td>\n",
       "      <td>False</td>\n",
       "      <td>False</td>\n",
       "      <td>False</td>\n",
       "      <td>False</td>\n",
       "      <td>False</td>\n",
       "      <td>False</td>\n",
       "      <td>False</td>\n",
       "      <td>False</td>\n",
       "      <td>False</td>\n",
       "    </tr>\n",
       "    <tr>\n",
       "      <th>1</th>\n",
       "      <td>False</td>\n",
       "      <td>False</td>\n",
       "      <td>False</td>\n",
       "      <td>True</td>\n",
       "      <td>False</td>\n",
       "      <td>False</td>\n",
       "      <td>False</td>\n",
       "      <td>False</td>\n",
       "      <td>False</td>\n",
       "      <td>False</td>\n",
       "      <td>...</td>\n",
       "      <td>False</td>\n",
       "      <td>False</td>\n",
       "      <td>False</td>\n",
       "      <td>False</td>\n",
       "      <td>False</td>\n",
       "      <td>False</td>\n",
       "      <td>False</td>\n",
       "      <td>False</td>\n",
       "      <td>False</td>\n",
       "      <td>False</td>\n",
       "    </tr>\n",
       "    <tr>\n",
       "      <th>2</th>\n",
       "      <td>False</td>\n",
       "      <td>False</td>\n",
       "      <td>False</td>\n",
       "      <td>False</td>\n",
       "      <td>False</td>\n",
       "      <td>False</td>\n",
       "      <td>False</td>\n",
       "      <td>False</td>\n",
       "      <td>False</td>\n",
       "      <td>False</td>\n",
       "      <td>...</td>\n",
       "      <td>False</td>\n",
       "      <td>False</td>\n",
       "      <td>False</td>\n",
       "      <td>False</td>\n",
       "      <td>False</td>\n",
       "      <td>False</td>\n",
       "      <td>False</td>\n",
       "      <td>False</td>\n",
       "      <td>False</td>\n",
       "      <td>False</td>\n",
       "    </tr>\n",
       "    <tr>\n",
       "      <th>3</th>\n",
       "      <td>False</td>\n",
       "      <td>False</td>\n",
       "      <td>False</td>\n",
       "      <td>True</td>\n",
       "      <td>False</td>\n",
       "      <td>False</td>\n",
       "      <td>False</td>\n",
       "      <td>False</td>\n",
       "      <td>False</td>\n",
       "      <td>False</td>\n",
       "      <td>...</td>\n",
       "      <td>False</td>\n",
       "      <td>False</td>\n",
       "      <td>False</td>\n",
       "      <td>False</td>\n",
       "      <td>False</td>\n",
       "      <td>False</td>\n",
       "      <td>False</td>\n",
       "      <td>False</td>\n",
       "      <td>False</td>\n",
       "      <td>False</td>\n",
       "    </tr>\n",
       "    <tr>\n",
       "      <th>4</th>\n",
       "      <td>False</td>\n",
       "      <td>False</td>\n",
       "      <td>False</td>\n",
       "      <td>True</td>\n",
       "      <td>False</td>\n",
       "      <td>False</td>\n",
       "      <td>False</td>\n",
       "      <td>False</td>\n",
       "      <td>False</td>\n",
       "      <td>False</td>\n",
       "      <td>...</td>\n",
       "      <td>False</td>\n",
       "      <td>False</td>\n",
       "      <td>False</td>\n",
       "      <td>False</td>\n",
       "      <td>False</td>\n",
       "      <td>False</td>\n",
       "      <td>False</td>\n",
       "      <td>False</td>\n",
       "      <td>False</td>\n",
       "      <td>False</td>\n",
       "    </tr>\n",
       "    <tr>\n",
       "      <th>...</th>\n",
       "      <td>...</td>\n",
       "      <td>...</td>\n",
       "      <td>...</td>\n",
       "      <td>...</td>\n",
       "      <td>...</td>\n",
       "      <td>...</td>\n",
       "      <td>...</td>\n",
       "      <td>...</td>\n",
       "      <td>...</td>\n",
       "      <td>...</td>\n",
       "      <td>...</td>\n",
       "      <td>...</td>\n",
       "      <td>...</td>\n",
       "      <td>...</td>\n",
       "      <td>...</td>\n",
       "      <td>...</td>\n",
       "      <td>...</td>\n",
       "      <td>...</td>\n",
       "      <td>...</td>\n",
       "      <td>...</td>\n",
       "      <td>...</td>\n",
       "    </tr>\n",
       "    <tr>\n",
       "      <th>175</th>\n",
       "      <td>False</td>\n",
       "      <td>False</td>\n",
       "      <td>False</td>\n",
       "      <td>False</td>\n",
       "      <td>False</td>\n",
       "      <td>False</td>\n",
       "      <td>False</td>\n",
       "      <td>False</td>\n",
       "      <td>False</td>\n",
       "      <td>False</td>\n",
       "      <td>...</td>\n",
       "      <td>False</td>\n",
       "      <td>False</td>\n",
       "      <td>False</td>\n",
       "      <td>False</td>\n",
       "      <td>False</td>\n",
       "      <td>False</td>\n",
       "      <td>False</td>\n",
       "      <td>False</td>\n",
       "      <td>False</td>\n",
       "      <td>False</td>\n",
       "    </tr>\n",
       "    <tr>\n",
       "      <th>176</th>\n",
       "      <td>False</td>\n",
       "      <td>False</td>\n",
       "      <td>False</td>\n",
       "      <td>False</td>\n",
       "      <td>False</td>\n",
       "      <td>False</td>\n",
       "      <td>False</td>\n",
       "      <td>False</td>\n",
       "      <td>False</td>\n",
       "      <td>False</td>\n",
       "      <td>...</td>\n",
       "      <td>False</td>\n",
       "      <td>False</td>\n",
       "      <td>False</td>\n",
       "      <td>False</td>\n",
       "      <td>False</td>\n",
       "      <td>False</td>\n",
       "      <td>False</td>\n",
       "      <td>False</td>\n",
       "      <td>False</td>\n",
       "      <td>False</td>\n",
       "    </tr>\n",
       "    <tr>\n",
       "      <th>177</th>\n",
       "      <td>False</td>\n",
       "      <td>False</td>\n",
       "      <td>False</td>\n",
       "      <td>False</td>\n",
       "      <td>False</td>\n",
       "      <td>False</td>\n",
       "      <td>False</td>\n",
       "      <td>False</td>\n",
       "      <td>False</td>\n",
       "      <td>False</td>\n",
       "      <td>...</td>\n",
       "      <td>False</td>\n",
       "      <td>False</td>\n",
       "      <td>False</td>\n",
       "      <td>False</td>\n",
       "      <td>False</td>\n",
       "      <td>False</td>\n",
       "      <td>False</td>\n",
       "      <td>False</td>\n",
       "      <td>False</td>\n",
       "      <td>False</td>\n",
       "    </tr>\n",
       "    <tr>\n",
       "      <th>178</th>\n",
       "      <td>False</td>\n",
       "      <td>False</td>\n",
       "      <td>False</td>\n",
       "      <td>False</td>\n",
       "      <td>False</td>\n",
       "      <td>False</td>\n",
       "      <td>False</td>\n",
       "      <td>False</td>\n",
       "      <td>False</td>\n",
       "      <td>False</td>\n",
       "      <td>...</td>\n",
       "      <td>False</td>\n",
       "      <td>False</td>\n",
       "      <td>False</td>\n",
       "      <td>False</td>\n",
       "      <td>False</td>\n",
       "      <td>False</td>\n",
       "      <td>False</td>\n",
       "      <td>False</td>\n",
       "      <td>False</td>\n",
       "      <td>False</td>\n",
       "    </tr>\n",
       "    <tr>\n",
       "      <th>179</th>\n",
       "      <td>False</td>\n",
       "      <td>False</td>\n",
       "      <td>False</td>\n",
       "      <td>True</td>\n",
       "      <td>False</td>\n",
       "      <td>False</td>\n",
       "      <td>False</td>\n",
       "      <td>False</td>\n",
       "      <td>False</td>\n",
       "      <td>False</td>\n",
       "      <td>...</td>\n",
       "      <td>False</td>\n",
       "      <td>False</td>\n",
       "      <td>False</td>\n",
       "      <td>False</td>\n",
       "      <td>False</td>\n",
       "      <td>False</td>\n",
       "      <td>False</td>\n",
       "      <td>False</td>\n",
       "      <td>False</td>\n",
       "      <td>False</td>\n",
       "    </tr>\n",
       "  </tbody>\n",
       "</table>\n",
       "<p>180 rows × 25 columns</p>\n",
       "</div>"
      ],
      "text/plain": [
       "      team  targeted_productivity    smv    wip  over_time  incentive  \\\n",
       "0    False                  False  False   True      False      False   \n",
       "1    False                  False  False   True      False      False   \n",
       "2    False                  False  False  False      False      False   \n",
       "3    False                  False  False   True      False      False   \n",
       "4    False                  False  False   True      False      False   \n",
       "..     ...                    ...    ...    ...        ...        ...   \n",
       "175  False                  False  False  False      False      False   \n",
       "176  False                  False  False  False      False      False   \n",
       "177  False                  False  False  False      False      False   \n",
       "178  False                  False  False  False      False      False   \n",
       "179  False                  False  False   True      False      False   \n",
       "\n",
       "     idle_time  idle_men  no_of_style_change  no_of_workers  ...  \\\n",
       "0        False     False               False          False  ...   \n",
       "1        False     False               False          False  ...   \n",
       "2        False     False               False          False  ...   \n",
       "3        False     False               False          False  ...   \n",
       "4        False     False               False          False  ...   \n",
       "..         ...       ...                 ...            ...  ...   \n",
       "175      False     False               False          False  ...   \n",
       "176      False     False               False          False  ...   \n",
       "177      False     False               False          False  ...   \n",
       "178      False     False               False          False  ...   \n",
       "179      False     False               False          False  ...   \n",
       "\n",
       "     quarter_Quarter5  department_finishing  department_finishing   \\\n",
       "0               False                 False                  False   \n",
       "1               False                 False                  False   \n",
       "2               False                 False                  False   \n",
       "3               False                 False                  False   \n",
       "4               False                 False                  False   \n",
       "..                ...                   ...                    ...   \n",
       "175             False                 False                  False   \n",
       "176             False                 False                  False   \n",
       "177             False                 False                  False   \n",
       "178             False                 False                  False   \n",
       "179             False                 False                  False   \n",
       "\n",
       "     department_sweing  day_Monday  day_Saturday  day_Sunday  day_Thursday  \\\n",
       "0                False       False         False       False         False   \n",
       "1                False       False         False       False         False   \n",
       "2                False       False         False       False         False   \n",
       "3                False       False         False       False         False   \n",
       "4                False       False         False       False         False   \n",
       "..                 ...         ...           ...         ...           ...   \n",
       "175              False       False         False       False         False   \n",
       "176              False       False         False       False         False   \n",
       "177              False       False         False       False         False   \n",
       "178              False       False         False       False         False   \n",
       "179              False       False         False       False         False   \n",
       "\n",
       "     day_Tuesday  day_Wednesday  \n",
       "0          False          False  \n",
       "1          False          False  \n",
       "2          False          False  \n",
       "3          False          False  \n",
       "4          False          False  \n",
       "..           ...            ...  \n",
       "175        False          False  \n",
       "176        False          False  \n",
       "177        False          False  \n",
       "178        False          False  \n",
       "179        False          False  \n",
       "\n",
       "[180 rows x 25 columns]"
      ]
     },
     "execution_count": 4,
     "metadata": {},
     "output_type": "execute_result"
    }
   ],
   "source": [
    "prediction_df.isna()"
   ]
  },
  {
   "cell_type": "code",
   "execution_count": 5,
   "id": "1b500038",
   "metadata": {
    "execution": {
     "iopub.execute_input": "2023-04-01T17:20:56.998424Z",
     "iopub.status.busy": "2023-04-01T17:20:56.997290Z",
     "iopub.status.idle": "2023-04-01T17:20:57.030200Z",
     "shell.execute_reply": "2023-04-01T17:20:57.028802Z"
    },
    "papermill": {
     "duration": 0.044631,
     "end_time": "2023-04-01T17:20:57.032969",
     "exception": false,
     "start_time": "2023-04-01T17:20:56.988338",
     "status": "completed"
    },
    "tags": []
   },
   "outputs": [
    {
     "data": {
      "text/html": [
       "<div>\n",
       "<style scoped>\n",
       "    .dataframe tbody tr th:only-of-type {\n",
       "        vertical-align: middle;\n",
       "    }\n",
       "\n",
       "    .dataframe tbody tr th {\n",
       "        vertical-align: top;\n",
       "    }\n",
       "\n",
       "    .dataframe thead th {\n",
       "        text-align: right;\n",
       "    }\n",
       "</style>\n",
       "<table border=\"1\" class=\"dataframe\">\n",
       "  <thead>\n",
       "    <tr style=\"text-align: right;\">\n",
       "      <th></th>\n",
       "      <th>team</th>\n",
       "      <th>targeted_productivity</th>\n",
       "      <th>smv</th>\n",
       "      <th>wip</th>\n",
       "      <th>over_time</th>\n",
       "      <th>incentive</th>\n",
       "      <th>idle_time</th>\n",
       "      <th>idle_men</th>\n",
       "      <th>no_of_style_change</th>\n",
       "      <th>no_of_workers</th>\n",
       "      <th>...</th>\n",
       "      <th>quarter_Quarter5</th>\n",
       "      <th>department_finishing</th>\n",
       "      <th>department_finishing</th>\n",
       "      <th>department_sweing</th>\n",
       "      <th>day_Monday</th>\n",
       "      <th>day_Saturday</th>\n",
       "      <th>day_Sunday</th>\n",
       "      <th>day_Thursday</th>\n",
       "      <th>day_Tuesday</th>\n",
       "      <th>day_Wednesday</th>\n",
       "    </tr>\n",
       "  </thead>\n",
       "  <tbody>\n",
       "    <tr>\n",
       "      <th>2</th>\n",
       "      <td>3</td>\n",
       "      <td>0.70</td>\n",
       "      <td>30.10</td>\n",
       "      <td>1057.0</td>\n",
       "      <td>0</td>\n",
       "      <td>40</td>\n",
       "      <td>0.0</td>\n",
       "      <td>0</td>\n",
       "      <td>1</td>\n",
       "      <td>58.0</td>\n",
       "      <td>...</td>\n",
       "      <td>0</td>\n",
       "      <td>0</td>\n",
       "      <td>0</td>\n",
       "      <td>1</td>\n",
       "      <td>0</td>\n",
       "      <td>0</td>\n",
       "      <td>0</td>\n",
       "      <td>0</td>\n",
       "      <td>0</td>\n",
       "      <td>1</td>\n",
       "    </tr>\n",
       "    <tr>\n",
       "      <th>5</th>\n",
       "      <td>1</td>\n",
       "      <td>0.75</td>\n",
       "      <td>22.94</td>\n",
       "      <td>1502.0</td>\n",
       "      <td>6960</td>\n",
       "      <td>81</td>\n",
       "      <td>0.0</td>\n",
       "      <td>0</td>\n",
       "      <td>0</td>\n",
       "      <td>58.0</td>\n",
       "      <td>...</td>\n",
       "      <td>1</td>\n",
       "      <td>0</td>\n",
       "      <td>0</td>\n",
       "      <td>1</td>\n",
       "      <td>0</td>\n",
       "      <td>1</td>\n",
       "      <td>0</td>\n",
       "      <td>0</td>\n",
       "      <td>0</td>\n",
       "      <td>0</td>\n",
       "    </tr>\n",
       "    <tr>\n",
       "      <th>6</th>\n",
       "      <td>7</td>\n",
       "      <td>0.75</td>\n",
       "      <td>30.10</td>\n",
       "      <td>709.0</td>\n",
       "      <td>6960</td>\n",
       "      <td>45</td>\n",
       "      <td>0.0</td>\n",
       "      <td>0</td>\n",
       "      <td>1</td>\n",
       "      <td>58.0</td>\n",
       "      <td>...</td>\n",
       "      <td>0</td>\n",
       "      <td>0</td>\n",
       "      <td>0</td>\n",
       "      <td>1</td>\n",
       "      <td>1</td>\n",
       "      <td>0</td>\n",
       "      <td>0</td>\n",
       "      <td>0</td>\n",
       "      <td>0</td>\n",
       "      <td>0</td>\n",
       "    </tr>\n",
       "    <tr>\n",
       "      <th>8</th>\n",
       "      <td>4</td>\n",
       "      <td>0.75</td>\n",
       "      <td>26.82</td>\n",
       "      <td>1082.0</td>\n",
       "      <td>6840</td>\n",
       "      <td>65</td>\n",
       "      <td>0.0</td>\n",
       "      <td>0</td>\n",
       "      <td>0</td>\n",
       "      <td>57.0</td>\n",
       "      <td>...</td>\n",
       "      <td>0</td>\n",
       "      <td>0</td>\n",
       "      <td>0</td>\n",
       "      <td>1</td>\n",
       "      <td>0</td>\n",
       "      <td>0</td>\n",
       "      <td>1</td>\n",
       "      <td>0</td>\n",
       "      <td>0</td>\n",
       "      <td>0</td>\n",
       "    </tr>\n",
       "    <tr>\n",
       "      <th>11</th>\n",
       "      <td>3</td>\n",
       "      <td>0.80</td>\n",
       "      <td>29.40</td>\n",
       "      <td>1156.0</td>\n",
       "      <td>6840</td>\n",
       "      <td>50</td>\n",
       "      <td>0.0</td>\n",
       "      <td>0</td>\n",
       "      <td>0</td>\n",
       "      <td>57.0</td>\n",
       "      <td>...</td>\n",
       "      <td>0</td>\n",
       "      <td>0</td>\n",
       "      <td>0</td>\n",
       "      <td>1</td>\n",
       "      <td>0</td>\n",
       "      <td>0</td>\n",
       "      <td>0</td>\n",
       "      <td>0</td>\n",
       "      <td>1</td>\n",
       "      <td>0</td>\n",
       "    </tr>\n",
       "  </tbody>\n",
       "</table>\n",
       "<p>5 rows × 25 columns</p>\n",
       "</div>"
      ],
      "text/plain": [
       "    team  targeted_productivity    smv     wip  over_time  incentive  \\\n",
       "2      3                   0.70  30.10  1057.0          0         40   \n",
       "5      1                   0.75  22.94  1502.0       6960         81   \n",
       "6      7                   0.75  30.10   709.0       6960         45   \n",
       "8      4                   0.75  26.82  1082.0       6840         65   \n",
       "11     3                   0.80  29.40  1156.0       6840         50   \n",
       "\n",
       "    idle_time  idle_men  no_of_style_change  no_of_workers  ...  \\\n",
       "2         0.0         0                   1           58.0  ...   \n",
       "5         0.0         0                   0           58.0  ...   \n",
       "6         0.0         0                   1           58.0  ...   \n",
       "8         0.0         0                   0           57.0  ...   \n",
       "11        0.0         0                   0           57.0  ...   \n",
       "\n",
       "    quarter_Quarter5  department_finishing  department_finishing   \\\n",
       "2                  0                     0                      0   \n",
       "5                  1                     0                      0   \n",
       "6                  0                     0                      0   \n",
       "8                  0                     0                      0   \n",
       "11                 0                     0                      0   \n",
       "\n",
       "    department_sweing  day_Monday  day_Saturday  day_Sunday  day_Thursday  \\\n",
       "2                   1           0             0           0             0   \n",
       "5                   1           0             1           0             0   \n",
       "6                   1           1             0           0             0   \n",
       "8                   1           0             0           1             0   \n",
       "11                  1           0             0           0             0   \n",
       "\n",
       "    day_Tuesday  day_Wednesday  \n",
       "2             0              1  \n",
       "5             0              0  \n",
       "6             0              0  \n",
       "8             0              0  \n",
       "11            1              0  \n",
       "\n",
       "[5 rows x 25 columns]"
      ]
     },
     "execution_count": 5,
     "metadata": {},
     "output_type": "execute_result"
    }
   ],
   "source": [
    "prediction_df = prediction_df.dropna(axis=0)\n",
    "prediction_df.head()"
   ]
  },
  {
   "cell_type": "code",
   "execution_count": 6,
   "id": "30d584aa",
   "metadata": {
    "execution": {
     "iopub.execute_input": "2023-04-01T17:20:57.051140Z",
     "iopub.status.busy": "2023-04-01T17:20:57.050718Z",
     "iopub.status.idle": "2023-04-01T17:20:57.074299Z",
     "shell.execute_reply": "2023-04-01T17:20:57.072484Z"
    },
    "papermill": {
     "duration": 0.036161,
     "end_time": "2023-04-01T17:20:57.077128",
     "exception": false,
     "start_time": "2023-04-01T17:20:57.040967",
     "status": "completed"
    },
    "tags": []
   },
   "outputs": [
    {
     "name": "stdout",
     "output_type": "stream",
     "text": [
      "<class 'pandas.core.frame.DataFrame'>\n",
      "Index: 97 entries, 2 to 178\n",
      "Data columns (total 25 columns):\n",
      " #   Column                 Non-Null Count  Dtype  \n",
      "---  ------                 --------------  -----  \n",
      " 0   team                   97 non-null     int64  \n",
      " 1   targeted_productivity  97 non-null     float64\n",
      " 2   smv                    97 non-null     float64\n",
      " 3   wip                    97 non-null     float64\n",
      " 4   over_time              97 non-null     int64  \n",
      " 5   incentive              97 non-null     int64  \n",
      " 6   idle_time              97 non-null     float64\n",
      " 7   idle_men               97 non-null     int64  \n",
      " 8   no_of_style_change     97 non-null     int64  \n",
      " 9   no_of_workers          97 non-null     float64\n",
      " 10  month                  97 non-null     int64  \n",
      " 11  quarter_Quarter1       97 non-null     int64  \n",
      " 12  quarter_Quarter2       97 non-null     int64  \n",
      " 13  quarter_Quarter3       97 non-null     int64  \n",
      " 14  quarter_Quarter4       97 non-null     int64  \n",
      " 15  quarter_Quarter5       97 non-null     int64  \n",
      " 16  department_finishing   97 non-null     int64  \n",
      " 17  department_finishing   97 non-null     int64  \n",
      " 18  department_sweing      97 non-null     int64  \n",
      " 19  day_Monday             97 non-null     int64  \n",
      " 20  day_Saturday           97 non-null     int64  \n",
      " 21  day_Sunday             97 non-null     int64  \n",
      " 22  day_Thursday           97 non-null     int64  \n",
      " 23  day_Tuesday            97 non-null     int64  \n",
      " 24  day_Wednesday          97 non-null     int64  \n",
      "dtypes: float64(5), int64(20)\n",
      "memory usage: 19.7 KB\n"
     ]
    }
   ],
   "source": [
    "prediction_df.info()"
   ]
  },
  {
   "cell_type": "code",
   "execution_count": 7,
   "id": "a1b0a9cc",
   "metadata": {
    "execution": {
     "iopub.execute_input": "2023-04-01T17:20:57.095240Z",
     "iopub.status.busy": "2023-04-01T17:20:57.094838Z",
     "iopub.status.idle": "2023-04-01T17:20:57.109124Z",
     "shell.execute_reply": "2023-04-01T17:20:57.108014Z"
    },
    "papermill": {
     "duration": 0.026571,
     "end_time": "2023-04-01T17:20:57.111784",
     "exception": false,
     "start_time": "2023-04-01T17:20:57.085213",
     "status": "completed"
    },
    "tags": []
   },
   "outputs": [
    {
     "data": {
      "text/html": [
       "<div>\n",
       "<style scoped>\n",
       "    .dataframe tbody tr th:only-of-type {\n",
       "        vertical-align: middle;\n",
       "    }\n",
       "\n",
       "    .dataframe tbody tr th {\n",
       "        vertical-align: top;\n",
       "    }\n",
       "\n",
       "    .dataframe thead th {\n",
       "        text-align: right;\n",
       "    }\n",
       "</style>\n",
       "<table border=\"1\" class=\"dataframe\">\n",
       "  <thead>\n",
       "    <tr style=\"text-align: right;\">\n",
       "      <th></th>\n",
       "      <th>over_time</th>\n",
       "    </tr>\n",
       "  </thead>\n",
       "  <tbody>\n",
       "    <tr>\n",
       "      <th>2</th>\n",
       "      <td>0</td>\n",
       "    </tr>\n",
       "    <tr>\n",
       "      <th>5</th>\n",
       "      <td>6960</td>\n",
       "    </tr>\n",
       "    <tr>\n",
       "      <th>6</th>\n",
       "      <td>6960</td>\n",
       "    </tr>\n",
       "    <tr>\n",
       "      <th>8</th>\n",
       "      <td>6840</td>\n",
       "    </tr>\n",
       "    <tr>\n",
       "      <th>11</th>\n",
       "      <td>6840</td>\n",
       "    </tr>\n",
       "    <tr>\n",
       "      <th>...</th>\n",
       "      <td>...</td>\n",
       "    </tr>\n",
       "    <tr>\n",
       "      <th>173</th>\n",
       "      <td>7080</td>\n",
       "    </tr>\n",
       "    <tr>\n",
       "      <th>175</th>\n",
       "      <td>4080</td>\n",
       "    </tr>\n",
       "    <tr>\n",
       "      <th>176</th>\n",
       "      <td>2280</td>\n",
       "    </tr>\n",
       "    <tr>\n",
       "      <th>177</th>\n",
       "      <td>7080</td>\n",
       "    </tr>\n",
       "    <tr>\n",
       "      <th>178</th>\n",
       "      <td>7080</td>\n",
       "    </tr>\n",
       "  </tbody>\n",
       "</table>\n",
       "<p>97 rows × 1 columns</p>\n",
       "</div>"
      ],
      "text/plain": [
       "     over_time\n",
       "2            0\n",
       "5         6960\n",
       "6         6960\n",
       "8         6840\n",
       "11        6840\n",
       "..         ...\n",
       "173       7080\n",
       "175       4080\n",
       "176       2280\n",
       "177       7080\n",
       "178       7080\n",
       "\n",
       "[97 rows x 1 columns]"
      ]
     },
     "execution_count": 7,
     "metadata": {},
     "output_type": "execute_result"
    }
   ],
   "source": [
    "data_df = prediction_df[['over_time']]\n",
    "data_df"
   ]
  },
  {
   "cell_type": "code",
   "execution_count": 8,
   "id": "b1f6b417",
   "metadata": {
    "execution": {
     "iopub.execute_input": "2023-04-01T17:20:57.130064Z",
     "iopub.status.busy": "2023-04-01T17:20:57.129666Z",
     "iopub.status.idle": "2023-04-01T17:20:57.141685Z",
     "shell.execute_reply": "2023-04-01T17:20:57.140458Z"
    },
    "papermill": {
     "duration": 0.024331,
     "end_time": "2023-04-01T17:20:57.144267",
     "exception": false,
     "start_time": "2023-04-01T17:20:57.119936",
     "status": "completed"
    },
    "tags": []
   },
   "outputs": [
    {
     "data": {
      "text/plain": [
       "0.25     5490.0\n",
       "0.34     6720.0\n",
       "0.75    10080.0\n",
       "0.97    10620.0\n",
       "Name: over_time, dtype: float64"
      ]
     },
     "execution_count": 8,
     "metadata": {},
     "output_type": "execute_result"
    }
   ],
   "source": [
    "prediction_df['over_time'].quantile([0.25, 0.34, 0.75, 0.97])"
   ]
  },
  {
   "cell_type": "code",
   "execution_count": 9,
   "id": "a6aabb93",
   "metadata": {
    "execution": {
     "iopub.execute_input": "2023-04-01T17:20:57.162804Z",
     "iopub.status.busy": "2023-04-01T17:20:57.162370Z",
     "iopub.status.idle": "2023-04-01T17:20:57.171032Z",
     "shell.execute_reply": "2023-04-01T17:20:57.169815Z"
    },
    "papermill": {
     "duration": 0.021485,
     "end_time": "2023-04-01T17:20:57.174031",
     "exception": false,
     "start_time": "2023-04-01T17:20:57.152546",
     "status": "completed"
    },
    "tags": []
   },
   "outputs": [
    {
     "data": {
      "text/plain": [
       "np.float64(7046.288659793814)"
      ]
     },
     "execution_count": 9,
     "metadata": {},
     "output_type": "execute_result"
    }
   ],
   "source": [
    "prediction_df['over_time'].mean()"
   ]
  },
  {
   "cell_type": "code",
   "execution_count": 10,
   "id": "762ade87",
   "metadata": {
    "execution": {
     "iopub.execute_input": "2023-04-01T17:20:57.193028Z",
     "iopub.status.busy": "2023-04-01T17:20:57.192567Z",
     "iopub.status.idle": "2023-04-01T17:20:57.201469Z",
     "shell.execute_reply": "2023-04-01T17:20:57.200087Z"
    },
    "papermill": {
     "duration": 0.021624,
     "end_time": "2023-04-01T17:20:57.204394",
     "exception": false,
     "start_time": "2023-04-01T17:20:57.182770",
     "status": "completed"
    },
    "tags": []
   },
   "outputs": [
    {
     "data": {
      "text/plain": [
       "np.float64(6960.0)"
      ]
     },
     "execution_count": 10,
     "metadata": {},
     "output_type": "execute_result"
    }
   ],
   "source": [
    "prediction_df['over_time'].median()"
   ]
  },
  {
   "cell_type": "code",
   "execution_count": 11,
   "id": "520a7ff9",
   "metadata": {
    "execution": {
     "iopub.execute_input": "2023-04-01T17:20:57.223249Z",
     "iopub.status.busy": "2023-04-01T17:20:57.222835Z",
     "iopub.status.idle": "2023-04-01T17:20:57.232976Z",
     "shell.execute_reply": "2023-04-01T17:20:57.231691Z"
    },
    "papermill": {
     "duration": 0.022518,
     "end_time": "2023-04-01T17:20:57.235419",
     "exception": false,
     "start_time": "2023-04-01T17:20:57.212901",
     "status": "completed"
    },
    "tags": []
   },
   "outputs": [
    {
     "data": {
      "text/plain": [
       "0    6840\n",
       "1    7080\n",
       "Name: over_time, dtype: int64"
      ]
     },
     "execution_count": 11,
     "metadata": {},
     "output_type": "execute_result"
    }
   ],
   "source": [
    "prediction_df['over_time'].mode()"
   ]
  },
  {
   "cell_type": "code",
   "execution_count": 12,
   "id": "4d8875c0",
   "metadata": {
    "execution": {
     "iopub.execute_input": "2023-04-01T17:20:57.254489Z",
     "iopub.status.busy": "2023-04-01T17:20:57.254019Z",
     "iopub.status.idle": "2023-04-01T17:20:57.262170Z",
     "shell.execute_reply": "2023-04-01T17:20:57.260866Z"
    },
    "papermill": {
     "duration": 0.020524,
     "end_time": "2023-04-01T17:20:57.264472",
     "exception": false,
     "start_time": "2023-04-01T17:20:57.243948",
     "status": "completed"
    },
    "tags": []
   },
   "outputs": [
    {
     "data": {
      "text/plain": [
       "np.int64(25920)"
      ]
     },
     "execution_count": 12,
     "metadata": {},
     "output_type": "execute_result"
    }
   ],
   "source": [
    "prediction_df['over_time'].max()"
   ]
  },
  {
   "cell_type": "code",
   "execution_count": 13,
   "id": "79446fef",
   "metadata": {
    "execution": {
     "iopub.execute_input": "2023-04-01T17:20:57.284028Z",
     "iopub.status.busy": "2023-04-01T17:20:57.283048Z",
     "iopub.status.idle": "2023-04-01T17:20:57.290037Z",
     "shell.execute_reply": "2023-04-01T17:20:57.289157Z"
    },
    "papermill": {
     "duration": 0.019163,
     "end_time": "2023-04-01T17:20:57.292125",
     "exception": false,
     "start_time": "2023-04-01T17:20:57.272962",
     "status": "completed"
    },
    "tags": []
   },
   "outputs": [
    {
     "data": {
      "text/plain": [
       "np.int64(0)"
      ]
     },
     "execution_count": 13,
     "metadata": {},
     "output_type": "execute_result"
    }
   ],
   "source": [
    "prediction_df['over_time'].min()"
   ]
  },
  {
   "cell_type": "code",
   "execution_count": 14,
   "id": "060cd933",
   "metadata": {
    "execution": {
     "iopub.execute_input": "2023-04-01T17:20:57.311927Z",
     "iopub.status.busy": "2023-04-01T17:20:57.311442Z",
     "iopub.status.idle": "2023-04-01T17:20:58.320916Z",
     "shell.execute_reply": "2023-04-01T17:20:58.319414Z"
    },
    "papermill": {
     "duration": 1.024003,
     "end_time": "2023-04-01T17:20:58.325181",
     "exception": false,
     "start_time": "2023-04-01T17:20:57.301178",
     "status": "completed"
    },
    "tags": []
   },
   "outputs": [
    {
     "data": {
      "text/plain": [
       "2     -2.122531\n",
       "5     -0.025992\n",
       "6     -0.025992\n",
       "8     -0.062140\n",
       "11    -0.062140\n",
       "         ...   \n",
       "173    0.010155\n",
       "175   -0.893526\n",
       "176   -1.435734\n",
       "177    0.010155\n",
       "178    0.010155\n",
       "Name: over_time, Length: 97, dtype: float64"
      ]
     },
     "execution_count": 14,
     "metadata": {},
     "output_type": "execute_result"
    }
   ],
   "source": [
    "from scipy import stats\n",
    "\n",
    "stats.zscore(prediction_df['over_time'])"
   ]
  },
  {
   "cell_type": "code",
   "execution_count": 15,
   "id": "e444b974",
   "metadata": {
    "execution": {
     "iopub.execute_input": "2023-04-01T17:20:58.345870Z",
     "iopub.status.busy": "2023-04-01T17:20:58.345436Z",
     "iopub.status.idle": "2023-04-01T17:20:58.920879Z",
     "shell.execute_reply": "2023-04-01T17:20:58.919984Z"
    },
    "papermill": {
     "duration": 0.58891,
     "end_time": "2023-04-01T17:20:58.923425",
     "exception": false,
     "start_time": "2023-04-01T17:20:58.334515",
     "status": "completed"
    },
    "tags": []
   },
   "outputs": [
    {
     "name": "stderr",
     "output_type": "stream",
     "text": [
      "/var/folders/cm/9rjzvcbn783456m0cwxvszdh0000gn/T/ipykernel_5370/1636472927.py:6: SettingWithCopyWarning: \n",
      "A value is trying to be set on a copy of a slice from a DataFrame.\n",
      "Try using .loc[row_indexer,col_indexer] = value instead\n",
      "\n",
      "See the caveats in the documentation: https://pandas.pydata.org/pandas-docs/stable/user_guide/indexing.html#returning-a-view-versus-a-copy\n",
      "  prediction_df.loc[19,'over_time)'] = 50000\n"
     ]
    },
    {
     "data": {
      "text/plain": [
       "<Axes: ylabel='over_time'>"
      ]
     },
     "execution_count": 15,
     "metadata": {},
     "output_type": "execute_result"
    },
    {
     "data": {
      "image/png": "[encoded data removed]",
      "text/plain": [
       "<Figure size 600x800 with 1 Axes>"
      ]
     },
     "metadata": {},
     "output_type": "display_data"
    }
   ],
   "source": [
    "import seaborn as sns\n",
    "import matplotlib.pyplot as plt\n",
    "\n",
    "plt.figure(figsize=(6,8))\n",
    "\n",
    "prediction_df.loc[19,'over_time)'] = 50000\n",
    "sns.boxplot(data=prediction_df, y='over_time', orient='v')"
   ]
  },
  {
   "cell_type": "code",
   "execution_count": 16,
   "id": "058e0c0a",
   "metadata": {
    "execution": {
     "iopub.execute_input": "2023-04-01T17:20:58.945082Z",
     "iopub.status.busy": "2023-04-01T17:20:58.944240Z",
     "iopub.status.idle": "2023-04-01T17:20:59.673710Z",
     "shell.execute_reply": "2023-04-01T17:20:59.672236Z"
    },
    "papermill": {
     "duration": 0.742701,
     "end_time": "2023-04-01T17:20:59.676298",
     "exception": false,
     "start_time": "2023-04-01T17:20:58.933597",
     "status": "completed"
    },
    "tags": []
   },
   "outputs": [
    {
     "data": {
      "text/plain": [
       "<Axes: xlabel='over_time', ylabel='no_of_workers'>"
      ]
     },
     "execution_count": 16,
     "metadata": {},
     "output_type": "execute_result"
    },
    {
     "data": {
      "image/png": "[encoded data removed]",
      "text/plain": [
       "<Figure size 1200x600 with 1 Axes>"
      ]
     },
     "metadata": {},
     "output_type": "display_data"
    }
   ],
   "source": [
    "import seaborn as sns\n",
    "import matplotlib.pyplot as plt\n",
    "\n",
    "plt.figure(figsize=(12,6))\n",
    "\n",
    "sns.lineplot(data=prediction_df, x=\"over_time\", y=\"no_of_workers\")"
   ]
  },
  {
   "cell_type": "code",
   "execution_count": 17,
   "id": "181a1ed1",
   "metadata": {
    "execution": {
     "iopub.execute_input": "2023-04-01T17:20:59.698807Z",
     "iopub.status.busy": "2023-04-01T17:20:59.698331Z",
     "iopub.status.idle": "2023-04-01T17:21:00.212437Z",
     "shell.execute_reply": "2023-04-01T17:21:00.211456Z"
    },
    "papermill": {
     "duration": 0.528297,
     "end_time": "2023-04-01T17:21:00.214892",
     "exception": false,
     "start_time": "2023-04-01T17:20:59.686595",
     "status": "completed"
    },
    "tags": []
   },
   "outputs": [
    {
     "data": {
      "text/plain": [
       "<Axes: xlabel='no_of_workers', ylabel='over_time'>"
      ]
     },
     "execution_count": 17,
     "metadata": {},
     "output_type": "execute_result"
    },
    {
     "data": {
      "image/png": "[encoded data removed]",
      "text/plain": [
       "<Figure size 1000x800 with 1 Axes>"
      ]
     },
     "metadata": {},
     "output_type": "display_data"
    }
   ],
   "source": [
    "plt.figure(figsize=(10,8))\n",
    "sns.boxplot(data=prediction_df, y='over_time', x='no_of_workers', orient='v')"
   ]
  },
  {
   "cell_type": "code",
   "execution_count": 18,
   "id": "cb597362",
   "metadata": {
    "execution": {
     "iopub.execute_input": "2023-04-01T17:21:00.239979Z",
     "iopub.status.busy": "2023-04-01T17:21:00.238995Z",
     "iopub.status.idle": "2023-04-01T17:21:00.246271Z",
     "shell.execute_reply": "2023-04-01T17:21:00.244732Z"
    },
    "papermill": {
     "duration": 0.023365,
     "end_time": "2023-04-01T17:21:00.249471",
     "exception": false,
     "start_time": "2023-04-01T17:21:00.226106",
     "status": "completed"
    },
    "tags": []
   },
   "outputs": [],
   "source": [
    "import seaborn as sns\n",
    "import matplotlib.pyplot as plt"
   ]
  },
  {
   "cell_type": "code",
   "execution_count": 19,
   "id": "ea3a44ab",
   "metadata": {
    "execution": {
     "iopub.execute_input": "2023-04-01T17:21:00.273439Z",
     "iopub.status.busy": "2023-04-01T17:21:00.273013Z",
     "iopub.status.idle": "2023-04-01T17:21:00.646411Z",
     "shell.execute_reply": "2023-04-01T17:21:00.645045Z"
    },
    "papermill": {
     "duration": 0.388511,
     "end_time": "2023-04-01T17:21:00.649117",
     "exception": false,
     "start_time": "2023-04-01T17:21:00.260606",
     "status": "completed"
    },
    "tags": []
   },
   "outputs": [
    {
     "data": {
      "text/plain": [
       "<seaborn.axisgrid.FacetGrid at 0x153208220>"
      ]
     },
     "execution_count": 19,
     "metadata": {},
     "output_type": "execute_result"
    },
    {
     "data": {
      "image/png": "[encoded data removed]",
      "text/plain": [
       "<Figure size 500x500 with 1 Axes>"
      ]
     },
     "metadata": {},
     "output_type": "display_data"
    }
   ],
   "source": [
    "import scipy.stats as stats\n",
    "score_df = prediction_df['over_time']\n",
    "score_df = score_df.to_numpy()\n",
    "z_score_array = stats.zscore(score_df)\n",
    "sns.displot(data = z_score_array, kde=True)"
   ]
  },
  {
   "cell_type": "code",
   "execution_count": 21,
   "id": "e0ffef97",
   "metadata": {
    "execution": {
     "iopub.execute_input": "2023-04-01T17:21:00.674966Z",
     "iopub.status.busy": "2023-04-01T17:21:00.674509Z",
     "iopub.status.idle": "2023-04-01T17:21:02.441906Z",
     "shell.execute_reply": "2023-04-01T17:21:02.440714Z"
    },
    "papermill": {
     "duration": 1.783912,
     "end_time": "2023-04-01T17:21:02.444825",
     "exception": false,
     "start_time": "2023-04-01T17:21:00.660913",
     "status": "completed"
    },
    "tags": []
   },
   "outputs": [
    {
     "data": {
      "text/html": [
       "<div>\n",
       "<style scoped>\n",
       "    .dataframe tbody tr th:only-of-type {\n",
       "        vertical-align: middle;\n",
       "    }\n",
       "\n",
       "    .dataframe tbody tr th {\n",
       "        vertical-align: top;\n",
       "    }\n",
       "\n",
       "    .dataframe thead th {\n",
       "        text-align: right;\n",
       "    }\n",
       "</style>\n",
       "<table border=\"1\" class=\"dataframe\">\n",
       "  <thead>\n",
       "    <tr style=\"text-align: right;\">\n",
       "      <th></th>\n",
       "      <th>const</th>\n",
       "      <th>no_of_workers</th>\n",
       "    </tr>\n",
       "  </thead>\n",
       "  <tbody>\n",
       "    <tr>\n",
       "      <th>2</th>\n",
       "      <td>1.0</td>\n",
       "      <td>58.0</td>\n",
       "    </tr>\n",
       "    <tr>\n",
       "      <th>5</th>\n",
       "      <td>1.0</td>\n",
       "      <td>58.0</td>\n",
       "    </tr>\n",
       "    <tr>\n",
       "      <th>6</th>\n",
       "      <td>1.0</td>\n",
       "      <td>58.0</td>\n",
       "    </tr>\n",
       "    <tr>\n",
       "      <th>8</th>\n",
       "      <td>1.0</td>\n",
       "      <td>57.0</td>\n",
       "    </tr>\n",
       "    <tr>\n",
       "      <th>11</th>\n",
       "      <td>1.0</td>\n",
       "      <td>57.0</td>\n",
       "    </tr>\n",
       "    <tr>\n",
       "      <th>...</th>\n",
       "      <td>...</td>\n",
       "      <td>...</td>\n",
       "    </tr>\n",
       "    <tr>\n",
       "      <th>173</th>\n",
       "      <td>1.0</td>\n",
       "      <td>59.0</td>\n",
       "    </tr>\n",
       "    <tr>\n",
       "      <th>175</th>\n",
       "      <td>1.0</td>\n",
       "      <td>34.0</td>\n",
       "    </tr>\n",
       "    <tr>\n",
       "      <th>176</th>\n",
       "      <td>1.0</td>\n",
       "      <td>39.0</td>\n",
       "    </tr>\n",
       "    <tr>\n",
       "      <th>177</th>\n",
       "      <td>1.0</td>\n",
       "      <td>59.0</td>\n",
       "    </tr>\n",
       "    <tr>\n",
       "      <th>178</th>\n",
       "      <td>1.0</td>\n",
       "      <td>31.5</td>\n",
       "    </tr>\n",
       "  </tbody>\n",
       "</table>\n",
       "<p>97 rows × 2 columns</p>\n",
       "</div>"
      ],
      "text/plain": [
       "     const  no_of_workers\n",
       "2      1.0           58.0\n",
       "5      1.0           58.0\n",
       "6      1.0           58.0\n",
       "8      1.0           57.0\n",
       "11     1.0           57.0\n",
       "..     ...            ...\n",
       "173    1.0           59.0\n",
       "175    1.0           34.0\n",
       "176    1.0           39.0\n",
       "177    1.0           59.0\n",
       "178    1.0           31.5\n",
       "\n",
       "[97 rows x 2 columns]"
      ]
     },
     "execution_count": 21,
     "metadata": {},
     "output_type": "execute_result"
    }
   ],
   "source": [
    "import statsmodels.api as sm\n",
    "newdata_df=prediction_df[['no_of_workers']]\n",
    "newdata_df = sm.add_constant(newdata_df, prepend = True)\n",
    "newdata_df"
   ]
  },
  {
   "cell_type": "code",
   "execution_count": 22,
   "id": "a86e83d8",
   "metadata": {
    "execution": {
     "iopub.execute_input": "2023-04-01T17:21:02.470287Z",
     "iopub.status.busy": "2023-04-01T17:21:02.469873Z",
     "iopub.status.idle": "2023-04-01T17:21:02.500018Z",
     "shell.execute_reply": "2023-04-01T17:21:02.498944Z"
    },
    "papermill": {
     "duration": 0.046246,
     "end_time": "2023-04-01T17:21:02.502797",
     "exception": false,
     "start_time": "2023-04-01T17:21:02.456551",
     "status": "completed"
    },
    "tags": []
   },
   "outputs": [
    {
     "data": {
      "text/html": [
       "<table class=\"simpletable\">\n",
       "<caption>OLS Regression Results</caption>\n",
       "<tr>\n",
       "  <th>Dep. Variable:</th>        <td>over_time</td>    <th>  R-squared:         </th> <td>   0.201</td>\n",
       "</tr>\n",
       "<tr>\n",
       "  <th>Model:</th>                   <td>OLS</td>       <th>  Adj. R-squared:    </th> <td>   0.192</td>\n",
       "</tr>\n",
       "<tr>\n",
       "  <th>Method:</th>             <td>Least Squares</td>  <th>  F-statistic:       </th> <td>   23.85</td>\n",
       "</tr>\n",
       "<tr>\n",
       "  <th>Date:</th>             <td>Thu, 20 Feb 2025</td> <th>  Prob (F-statistic):</th> <td>4.20e-06</td>\n",
       "</tr>\n",
       "<tr>\n",
       "  <th>Time:</th>                 <td>18:59:29</td>     <th>  Log-Likelihood:    </th> <td> -913.21</td>\n",
       "</tr>\n",
       "<tr>\n",
       "  <th>No. Observations:</th>      <td>    97</td>      <th>  AIC:               </th> <td>   1830.</td>\n",
       "</tr>\n",
       "<tr>\n",
       "  <th>Df Residuals:</th>          <td>    95</td>      <th>  BIC:               </th> <td>   1836.</td>\n",
       "</tr>\n",
       "<tr>\n",
       "  <th>Df Model:</th>              <td>     1</td>      <th>                     </th>     <td> </td>   \n",
       "</tr>\n",
       "<tr>\n",
       "  <th>Covariance Type:</th>      <td>nonrobust</td>    <th>                     </th>     <td> </td>   \n",
       "</tr>\n",
       "</table>\n",
       "<table class=\"simpletable\">\n",
       "<tr>\n",
       "        <td></td>           <th>coef</th>     <th>std err</th>      <th>t</th>      <th>P>|t|</th>  <th>[0.025</th>    <th>0.975]</th>  \n",
       "</tr>\n",
       "<tr>\n",
       "  <th>const</th>         <td>-1566.3545</td> <td> 1789.562</td> <td>   -0.875</td> <td> 0.384</td> <td>-5119.084</td> <td> 1986.375</td>\n",
       "</tr>\n",
       "<tr>\n",
       "  <th>no_of_workers</th> <td>  163.3128</td> <td>   33.439</td> <td>    4.884</td> <td> 0.000</td> <td>   96.928</td> <td>  229.697</td>\n",
       "</tr>\n",
       "</table>\n",
       "<table class=\"simpletable\">\n",
       "<tr>\n",
       "  <th>Omnibus:</th>       <td>73.853</td> <th>  Durbin-Watson:     </th> <td>   2.046</td> \n",
       "</tr>\n",
       "<tr>\n",
       "  <th>Prob(Omnibus):</th> <td> 0.000</td> <th>  Jarque-Bera (JB):  </th> <td> 946.279</td> \n",
       "</tr>\n",
       "<tr>\n",
       "  <th>Skew:</th>          <td> 2.098</td> <th>  Prob(JB):          </th> <td>3.30e-206</td>\n",
       "</tr>\n",
       "<tr>\n",
       "  <th>Kurtosis:</th>      <td>17.715</td> <th>  Cond. No.          </th> <td>    315.</td> \n",
       "</tr>\n",
       "</table><br/><br/>Notes:<br/>[1] Standard Errors assume that the covariance matrix of the errors is correctly specified."
      ],
      "text/latex": [
       "\\begin{center}\n",
       "\\begin{tabular}{lclc}\n",
       "\\toprule\n",
       "\\textbf{Dep. Variable:}    &    over\\_time    & \\textbf{  R-squared:         } &     0.201   \\\\\n",
       "\\textbf{Model:}            &       OLS        & \\textbf{  Adj. R-squared:    } &     0.192   \\\\\n",
       "\\textbf{Method:}           &  Least Squares   & \\textbf{  F-statistic:       } &     23.85   \\\\\n",
       "\\textbf{Date:}             & Thu, 20 Feb 2025 & \\textbf{  Prob (F-statistic):} &  4.20e-06   \\\\\n",
       "\\textbf{Time:}             &     18:59:29     & \\textbf{  Log-Likelihood:    } &   -913.21   \\\\\n",
       "\\textbf{No. Observations:} &          97      & \\textbf{  AIC:               } &     1830.   \\\\\n",
       "\\textbf{Df Residuals:}     &          95      & \\textbf{  BIC:               } &     1836.   \\\\\n",
       "\\textbf{Df Model:}         &           1      & \\textbf{                     } &             \\\\\n",
       "\\textbf{Covariance Type:}  &    nonrobust     & \\textbf{                     } &             \\\\\n",
       "\\bottomrule\n",
       "\\end{tabular}\n",
       "\\begin{tabular}{lcccccc}\n",
       "                         & \\textbf{coef} & \\textbf{std err} & \\textbf{t} & \\textbf{P$> |$t$|$} & \\textbf{[0.025} & \\textbf{0.975]}  \\\\\n",
       "\\midrule\n",
       "\\textbf{const}           &   -1566.3545  &     1789.562     &    -0.875  &         0.384        &    -5119.084    &     1986.375     \\\\\n",
       "\\textbf{no\\_of\\_workers} &     163.3128  &       33.439     &     4.884  &         0.000        &       96.928    &      229.697     \\\\\n",
       "\\bottomrule\n",
       "\\end{tabular}\n",
       "\\begin{tabular}{lclc}\n",
       "\\textbf{Omnibus:}       & 73.853 & \\textbf{  Durbin-Watson:     } &     2.046  \\\\\n",
       "\\textbf{Prob(Omnibus):} &  0.000 & \\textbf{  Jarque-Bera (JB):  } &   946.279  \\\\\n",
       "\\textbf{Skew:}          &  2.098 & \\textbf{  Prob(JB):          } & 3.30e-206  \\\\\n",
       "\\textbf{Kurtosis:}      & 17.715 & \\textbf{  Cond. No.          } &      315.  \\\\\n",
       "\\bottomrule\n",
       "\\end{tabular}\n",
       "%\\caption{OLS Regression Results}\n",
       "\\end{center}\n",
       "\n",
       "Notes: \\newline\n",
       " [1] Standard Errors assume that the covariance matrix of the errors is correctly specified."
      ],
      "text/plain": [
       "<class 'statsmodels.iolib.summary.Summary'>\n",
       "\"\"\"\n",
       "                            OLS Regression Results                            \n",
       "==============================================================================\n",
       "Dep. Variable:              over_time   R-squared:                       0.201\n",
       "Model:                            OLS   Adj. R-squared:                  0.192\n",
       "Method:                 Least Squares   F-statistic:                     23.85\n",
       "Date:                Thu, 20 Feb 2025   Prob (F-statistic):           4.20e-06\n",
       "Time:                        18:59:29   Log-Likelihood:                -913.21\n",
       "No. Observations:                  97   AIC:                             1830.\n",
       "Df Residuals:                      95   BIC:                             1836.\n",
       "Df Model:                           1                                         \n",
       "Covariance Type:            nonrobust                                         \n",
       "=================================================================================\n",
       "                    coef    std err          t      P>|t|      [0.025      0.975]\n",
       "---------------------------------------------------------------------------------\n",
       "const         -1566.3545   1789.562     -0.875      0.384   -5119.084    1986.375\n",
       "no_of_workers   163.3128     33.439      4.884      0.000      96.928     229.697\n",
       "==============================================================================\n",
       "Omnibus:                       73.853   Durbin-Watson:                   2.046\n",
       "Prob(Omnibus):                  0.000   Jarque-Bera (JB):              946.279\n",
       "Skew:                           2.098   Prob(JB):                    3.30e-206\n",
       "Kurtosis:                      17.715   Cond. No.                         315.\n",
       "==============================================================================\n",
       "\n",
       "Notes:\n",
       "[1] Standard Errors assume that the covariance matrix of the errors is correctly specified.\n",
       "\"\"\""
      ]
     },
     "metadata": {},
     "output_type": "display_data"
    }
   ],
   "source": [
    "mod_log = sm.OLS(prediction_df['over_time'], newdata_df)\n",
    "res_log = mod_log.fit()\n",
    "display(res_log.summary())"
   ]
  },
  {
   "cell_type": "code",
   "execution_count": 23,
   "id": "5d937452",
   "metadata": {
    "execution": {
     "iopub.execute_input": "2023-04-01T17:21:02.528796Z",
     "iopub.status.busy": "2023-04-01T17:21:02.527853Z",
     "iopub.status.idle": "2023-04-01T17:21:02.894895Z",
     "shell.execute_reply": "2023-04-01T17:21:02.893584Z"
    },
    "papermill": {
     "duration": 0.38278,
     "end_time": "2023-04-01T17:21:02.897485",
     "exception": false,
     "start_time": "2023-04-01T17:21:02.514705",
     "status": "completed"
    },
    "tags": []
   },
   "outputs": [
    {
     "data": {
      "text/plain": [
       "<Axes: xlabel='over_time', ylabel='no_of_workers'>"
      ]
     },
     "execution_count": 23,
     "metadata": {},
     "output_type": "execute_result"
    },
    {
     "data": {
      "image/png": "[encoded data removed]",
      "text/plain": [
       "<Figure size 640x480 with 1 Axes>"
      ]
     },
     "metadata": {},
     "output_type": "display_data"
    }
   ],
   "source": [
    "sns.regplot(x=prediction_df['over_time'], y=newdata_df['no_of_workers'])"
   ]
  },
  {
   "cell_type": "code",
   "execution_count": 24,
   "id": "66158c31",
   "metadata": {
    "execution": {
     "iopub.execute_input": "2023-04-01T17:21:02.926505Z",
     "iopub.status.busy": "2023-04-01T17:21:02.925358Z",
     "iopub.status.idle": "2023-04-01T17:21:02.939231Z",
     "shell.execute_reply": "2023-04-01T17:21:02.937416Z"
    },
    "papermill": {
     "duration": 0.031349,
     "end_time": "2023-04-01T17:21:02.942561",
     "exception": false,
     "start_time": "2023-04-01T17:21:02.911212",
     "status": "completed"
    },
    "tags": []
   },
   "outputs": [
    {
     "name": "stdout",
     "output_type": "stream",
     "text": [
      "Sample Mean: 6927.0\n",
      "Interval Estimate of a Population Mean: [6818.007251655211, 7035.992748344789]\n"
     ]
    }
   ],
   "source": [
    "from scipy.stats import t\n",
    "import math\n",
    "\n",
    "\n",
    "sample_df = prediction_df.sample(frac=0.1, replace=False, random_state=1)\n",
    "\n",
    "alpha = 1 - 0.95\n",
    "sample_mean = sample_df['over_time'].mean()\n",
    "sample_std = sample_df['over_time'].std()\n",
    "n = sample_df.shape[0]\n",
    "dof = n - 1\n",
    "\n",
    "t_one_tail = abs(t.ppf(alpha/2, dof))\n",
    "error_margin = t_one_tail * (sample_std**0.5)\n",
    "\n",
    "upper_boundary = sample_mean + error_margin\n",
    "lower_boundary = sample_mean - error_margin\n",
    "\n",
    "print('Sample Mean: '+str(sample_mean))\n",
    "print('Interval Estimate of a Population Mean: ['+str(sample_mean-abs(error_margin))+', '+str(sample_mean+abs(error_margin))+']')"
   ]
  },
  {
   "cell_type": "code",
   "execution_count": 25,
   "id": "5f973b21",
   "metadata": {
    "execution": {
     "iopub.execute_input": "2023-04-01T17:21:02.970625Z",
     "iopub.status.busy": "2023-04-01T17:21:02.969299Z",
     "iopub.status.idle": "2023-04-01T17:21:02.978274Z",
     "shell.execute_reply": "2023-04-01T17:21:02.976489Z"
    },
    "papermill": {
     "duration": 0.026112,
     "end_time": "2023-04-01T17:21:02.981366",
     "exception": false,
     "start_time": "2023-04-01T17:21:02.955254",
     "status": "completed"
    },
    "tags": []
   },
   "outputs": [
    {
     "name": "stdout",
     "output_type": "stream",
     "text": [
      "The p-value is 0.41977029652010883\n",
      "do not reject null hyprothesis\n"
     ]
    }
   ],
   "source": [
    "t_score = (sample_mean - prediction_df['over_time'].iloc[-1]) / (sample_std / math.sqrt(n))\n",
    "\n",
    "p_value = t.sf(abs(t_score), n-1)\n",
    "print(\"The p-value is\",p_value)\n",
    "if p_value <0.05:\n",
    "    print(\"reject null hyprothesis\")\n",
    "else:\n",
    "    print(\"do not reject null hyprothesis\")"
   ]
  }
 ],
 "metadata": {
  "kernelspec": {
   "display_name": "Python 3",
   "language": "python",
   "name": "python3"
  },
  "language_info": {
   "codemirror_mode": {
    "name": "ipython",
    "version": 3
   },
   "file_extension": ".py",
   "mimetype": "text/x-python",
   "name": "python",
   "nbconvert_exporter": "python",
   "pygments_lexer": "ipython3",
   "version": "3.9.6"
  },
  "papermill": {
   "default_parameters": {},
   "duration": 18.01757,
   "end_time": "2023-04-01T17:21:03.819573",
   "environment_variables": {},
   "exception": null,
   "input_path": "__notebook__.ipynb",
   "output_path": "__notebook__.ipynb",
   "parameters": {},
   "start_time": "2023-04-01T17:20:45.802003",
   "version": "2.4.0"
  }
 },
 "nbformat": 4,
 "nbformat_minor": 5
}
